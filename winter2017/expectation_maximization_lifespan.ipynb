{
 "cells": [
  {
   "cell_type": "markdown",
   "metadata": {},
   "source": [
    "### Generalized Lifespan Inference\n",
    "Aaron R. Voelker (January 25, 2017)\n",
    "\n",
    "The lifespan problem from Griffiths and Tenenbaum (2006) is generalized as follows:\n",
    "- $X = \\{x_1, \\ldots, x_N \\}$ is a set of $N$ random variables, corresponding to the observed ages of $N$ people. Each $x_i$ is a single $t$ from Tenenbaum's paper.\n",
    "- $Z = \\{z_1, \\ldots, z_N \\}$ is a set of $N$ random variables, corresponding to the hidden (unobserved) lifespan of the same $N$ people. Each $z_i$ is in a one-to-one corerspondance with its respective $x_i$, and is a single $t_{total}$ from Tenenbaum's paper.\n",
    "- $\\alpha = (\\mu, \\sigma)$ are the underlying hyperparameters from which each $z_i$ is drawn. In particular we model $z_i|\\alpha \\sim \\mathcal{N}(\\mu, \\sigma^2)$.\n",
    "- Each $x_i$ is drawn conditionally from $z_i$. In particular we model $x_i|z_i \\sim \\mathcal{U}[0, z_i)$, meaning that we are equally likely to see a person at any time throughout their life.\n",
    "- We assume mutual independence between all $N$ people.\n",
    "\n",
    "This is summarized in <a href=\"https://en.wikipedia.org/wiki/Plate_notation\">Plate notation</a> as follows:\n",
    "![](http://i.imgur.com/gmLKIjJ.png)\n",
    "\n",
    "which can be understood as a two-stage hierarchical Bayes model.\n",
    "\n",
    "The data is generated in the forward direction ($\\alpha \\longrightarrow Z \\longrightarrow X$). Then only $X$ is accessible to the model, along with the \"knowledge\" of how this was generated. The actual parameters for $Z$ and $\\alpha$ are hidden from the model. The task is then to infer the most likely $Z$ and $\\alpha$ given the observed sample $X$.\n",
    "\n",
    "In theory this should be done by solving:\n",
    "$$\\hat{\\alpha} = \\text{argmax}_{\\alpha} L(\\alpha; X) = \\text{argmax}_{\\alpha} \\sum_{Z} p(X, Z | \\alpha)$$\n",
    "to get an optimal estimate of the hyperparameters. This essentially means trying every possible $\\alpha$ and $Z$ and seeing which one most likely explains the observed data. Note that once the hyperparameters are known, it is also straightforward to estimate $\\hat{Z}$ using some Bayesian estimator, and using the prior $P(Z | \\hat{\\alpha})$ (this is what Tenenbaum does by pretending they already know the optimal prior).\n",
    "\n",
    "However, this notebook will show that this ideal iteration over all ($\\alpha$, $Z$) is untractable in general, and what to do to make it tractable (e.g., Expectation-Maximization)."
   ]
  },
  {
   "cell_type": "code",
   "execution_count": null,
   "metadata": {
    "collapsed": false
   },
   "outputs": [],
   "source": [
    "%pylab inline\n",
    "import pylab\n",
    "import seaborn as sns\n",
    "sns.set_context(\"talk\")\n",
    "\n",
    "import numpy as np\n"
   ]
  },
  {
   "cell_type": "code",
   "execution_count": 111,
   "metadata": {
    "collapsed": false
   },
   "outputs": [],
   "source": [
    "M = 150    # maximum age\n",
    "N = 1000   # number of independent samples\n",
    "K = 200    # resolution of PDFs\n",
    "\n",
    "# Start by computing the hidden (unobserved) parameters\n",
    "# using some hyperparameters alpha = (mu, std).\n",
    "# Neither of these will be accessible because that is what we're\n",
    "# trying to figure out! However the knowledge of how the hyperparameters\n",
    "# generated the hidden parameters will become a part of the model.\n",
    "mu_ANSWER = 75\n",
    "std_ANSWER = 16\n",
    "Z_ANSWER = std_ANSWER * np.random.randn(N) + mu_ANSWER\n",
    "\n",
    "# From these, draw the input (observed) parameters x_i ~ U[0, z_i]\n",
    "# which WILL be accessible to the code / etc. \n",
    "# \"we are equally likely to meet a man at any point in his life\"\n",
    "# and the model will again make use of this knowledge.\n",
    "X = np.asarray([np.random.uniform(high=th) for th in Z_ANSWER])\n",
    "assert (0 <= X).all() and (X <= M).all()\n",
    "\n",
    "# So far we have generated the sample data in the forward direction\n",
    "# (alpha -> Z -> X). Now the inference problem is essentially the reverse\n",
    "# direction (X -> (Z, alpha)) using knowledge of these distributions."
   ]
  },
  {
   "cell_type": "code",
   "execution_count": null,
   "metadata": {
    "collapsed": false
   },
   "outputs": [],
   "source": [
    "pylab.figure()\n",
    "pylab.title(\"Sampled Data\")\n",
    "sns.kdeplot(X, label=r\"Observed Ages $X$ (Input)\")\n",
    "sns.kdeplot(Z_ANSWER, label=r\"Unobserved Lifespans $Z$ (Hidden)\")\n",
    "sns.kdeplot(Z_ANSWER - X, label=r\"Remaining Life $Z - X$\", linestyle='--')\n",
    "pylab.xlim(0, M)\n",
    "pylab.xlabel(\"Age\")\n",
    "pylab.legend(bbox_to_anchor=(1.05, 1), loc=2, borderaxespad=0.)\n",
    "pylab.show()\n",
    "\n",
    "# Note that X has the same distribution as Z - X.\n",
    "# This is not a coincidence. It has to do with way in which X was generated;\n",
    "# in particular z_i - x_i ~ U[0, z_i]."
   ]
  },
  {
   "cell_type": "code",
   "execution_count": null,
   "metadata": {
    "collapsed": false
   },
   "outputs": [],
   "source": [
    "# Now we want to recover Z (and alpha) from X.\n",
    "# But even though X has the same distribution as Z - X\n",
    "# that does NOT mean X = Z - X <=> Z = 2*X\n",
    "# Equality of distributions does not imply equality of samples!\n",
    "\n",
    "pylab.figure()\n",
    "pylab.title(\"An Incorrect Naive Approach\")\n",
    "sns.kdeplot(2*X, label=r\"$2X$\")\n",
    "sns.kdeplot(Z_ANSWER, label=r\"Unobserved Lifespans $Z$ (Hidden)\")\n",
    "pylab.xlim(0, M)\n",
    "pylab.xlabel(\"Age\")\n",
    "pylab.legend(bbox_to_anchor=(1.05, 1), loc=2, borderaxespad=0.)\n",
    "pylab.show()\n",
    "\n",
    "# The fact that the distributions are the same, however, does give\n",
    "# hope that it should be possible to recover the distribution of the\n",
    "# (unobserved) hidden variables."
   ]
  },
  {
   "cell_type": "markdown",
   "metadata": {},
   "source": [
    "We now define the model prior $p(z_i)$ -- using the Normal distribution with some given parameters -- and the likelihood $p(x_i | z_i)$ -- as defined in the Tenenbaum paper. Note that we drop the dependence on $\\alpha$ here in the notation (for cleanliness), since it will be fixed."
   ]
  },
  {
   "cell_type": "code",
   "execution_count": 112,
   "metadata": {
    "collapsed": false
   },
   "outputs": [
    {
     "name": "stdout",
     "output_type": "stream",
     "text": [
      "Likelihood has 0 million elements\n"
     ]
    }
   ],
   "source": [
    "axis = np.linspace(0, M, K)\n",
    "\n",
    "def normal(mu, std):\n",
    "    return np.exp(-(axis - mu)**2 / (2*std**2)) / np.sqrt(2*std**2*np.pi)\n",
    "\n",
    "def uniform_posterior(x_i):\n",
    "    l = np.zeros_like(axis)\n",
    "    l[axis > x_i] = 1. / axis[axis > x_i]\n",
    "    return l\n",
    "\n",
    "likelihood = np.empty((N, K))\n",
    "for i, x_i in enumerate(X):\n",
    "    likelihood[i, :] = uniform_posterior(x_i)\n",
    "    \n",
    "print(\"Likelihood has %d million elements\" % (likelihood.size // 1000000))"
   ]
  },
  {
   "cell_type": "markdown",
   "metadata": {},
   "source": [
    "Tenenbaum's approach deals with each sample in isolation, and simply applies Bayes rule:\n",
    "\n",
    "$$p(z_i|x_i) \\propto p(z_i,x_i) = p(x_i|z_i) p(z_i)$$\n",
    "\n",
    "(where proportionality is with respect to constant $p(x_i)$) since we have the knowledge that\n",
    "\n",
    "$$x_i|z_i \\sim U[0, z_i] .$$\n",
    "\n",
    "Then we apply some Bayesian estimator to $p(z_i|x_i)$ to determine the most likely $z_i$. In the paper they suggest using the median. If we have the correct prior $p(z_i)$ (i.e., the _true_ $\\alpha$), then **this is optimal** with respect to the chosen Bayesian estimator."
   ]
  },
  {
   "cell_type": "code",
   "execution_count": null,
   "metadata": {
    "collapsed": false
   },
   "outputs": [],
   "source": [
    "mu = mu_ANSWER    # <-- cheating!\n",
    "std = std_ANSWER  # <-- cheating!\n",
    "prior = normal(mu, std)\n",
    "\n",
    "Z_median = np.empty_like(X)\n",
    "#Z_map = np.empty_like(X)\n",
    "for i in range(N):\n",
    "    joint = likelihood[i] * prior  # proportional to posterior\n",
    "    cpdf = np.cumsum(joint)\n",
    "    Z_median[i] = axis[np.where(cpdf >= (cpdf[-1] / 2))[0][0]]  # Median estimate\n",
    "    #Z_map[i] = axis[np.argmax(joint)]  # MAP estimate\n",
    "\n",
    "# Here we graph the difference in the true Z versus the estimate Z\n",
    "# for the median estimator. And then we can compare this to using\n",
    "# 2*X as a naive estimator, which is worse. We can also always guess\n",
    "# mu, which is almost as good (surprisingly, since it does not even \n",
    "# depend on X). But the optimal estimate is still more sharply peaked.\n",
    "\n",
    "def measure(r):\n",
    "    return r\"($%d \\pm %d$)\" % (np.mean(r), np.std(r))\n",
    "\n",
    "pylab.figure()\n",
    "pylab.title(\"Estimate Errors\")\n",
    "sns.kdeplot(Z_median - Z_ANSWER, label=r\"Median %s\" % measure(Z_median - Z_ANSWER))\n",
    "#sns.kdeplot(Z_map - Z_ANSWER, label=r\"MAP %s\" % measure(Z_map - Z_ANSWER))\n",
    "sns.kdeplot(mu - Z_ANSWER, label=r\"$\\mu$ %s\" % measure(mu - Z_ANSWER))\n",
    "sns.kdeplot(2*X - Z_ANSWER, label=r\"$2X$ %s\" % measure(2*X - Z_ANSWER))\n",
    "pylab.xlabel(r\"$\\hat{Z} - Z$\")\n",
    "pylab.legend(bbox_to_anchor=(1.05, 1), loc=2, borderaxespad=0.)\n",
    "pylab.show()"
   ]
  },
  {
   "cell_type": "markdown",
   "metadata": {},
   "source": [
    "If we don't know the actual prior, then the **optimal solution** is to essentially \"try them all\". That is, find the hyperparameters $\\alpha$ that maximize the marginal likelihood of the observed data, $L(\\alpha; X)$ (or equivalently the log-likelihood for numerical stability).\n",
    "\n",
    "$$\n",
    "\\begin{align}\n",
    "&& L(\\alpha; X) &= p(X | \\alpha) \\\\\n",
    "&& &= \\prod_{i=1}^N p(x_i | \\alpha) \\\\\n",
    "&& &= \\prod_{i=1}^N \\sum_{z_i} p(x_i, z_i | \\alpha) \\\\\n",
    "&& \\implies \\quad \\text{argmax}_\\alpha L(\\alpha; X) &= \\text{argmax}_\\alpha \\log L(\\alpha; X) \\\\\n",
    "&& &= \\text{argmax}_\\alpha \\sum_{i=1}^N \\log \\sum_{z_i} p(x_i, z_i | \\alpha)\n",
    "\\end{align}\n",
    "$$"
   ]
  },
  {
   "cell_type": "code",
   "execution_count": 114,
   "metadata": {
    "collapsed": false
   },
   "outputs": [
    {
     "name": "stdout",
     "output_type": "stream",
     "text": [
      "(70.0, 10.0, -4250.6228505263398)\n",
      "(70.0, 16.0, -4197.0206869971626)\n",
      "(70.0, 22.0, -4197.7287088073954)\n",
      "(72.5, 10.0, -4229.9618824273639)\n",
      "(72.5, 16.0, -4191.30706504911)\n",
      "(72.5, 22.0, -4195.6758867431763)\n",
      "(75.0, 10.0, -4217.3351134683708)\n",
      "(75.0, 16.0, -4189.9700327963901)\n",
      "(75.0, 22.0, -4196.7425456804131)\n",
      "(77.5, 10.0, -4211.582660786632)\n",
      "(77.5, 16.0, -4192.5098947516453)\n",
      "(77.5, 22.0, -4200.6412022193572)\n",
      "(80.0, 10.0, -4211.6511610718417)\n",
      "(80.0, 16.0, -4198.4554178240387)\n",
      "(80.0, 22.0, -4207.1034116076171)\n",
      "('Optimal hyperparameters:', (75.0, 16.0))\n",
      "('Actual hyperparameters:', (75, 16))\n"
     ]
    }
   ],
   "source": [
    "max_L = float('-inf')\n",
    "best_alpha = None\n",
    "\n",
    "for mu in np.linspace(70, 80, 5):\n",
    "    for std in np.linspace(10, 22, 3):\n",
    "        prior = normal(mu, std)\n",
    " \n",
    "        L = 0  # log-likelihood\n",
    "        for i in range(N):\n",
    "            L += np.log(np.dot(likelihood[i], prior))\n",
    "        \n",
    "        if L > max_L:\n",
    "            max_L = L\n",
    "            best_alpha = (mu, std)\n",
    "            \n",
    "        print(mu, std, L)\n",
    "        \n",
    "print(\"Optimal hyperparameters:\", best_alpha)\n",
    "print(\"Actual hyperparameters:\", (mu_ANSWER, std_ANSWER))"
   ]
  },
  {
   "cell_type": "markdown",
   "metadata": {},
   "source": [
    "---\n",
    "\n",
    "But in general this procedure is intractable, since it requires that we iterate over an infinitely large parameter space for $\\alpha$ (and sometimes also an infinitely large space for $Z$). This is why procedures like EM and EB exist: to make this tractable at the expense of suboptimality. But these solutions need to be worked out on a case-by-case basis depending on the model distributions.\n",
    "\n",
    "Below we work this out for Expectation-Maximization, starting with a simplification of the expectation using independence and other known facts about the model:\n",
    "$$\n",
    "\\begin{align}\n",
    "Q(\\alpha | \\alpha^{(t)}) &= E_{Z|X,\\alpha^{(t)}} \\left[ \\log L(\\alpha; X, Z) \\right] \\\\\n",
    "&= \\sum_{i=1}^N E_{z_i|x_i,\\alpha^{(t)}} \\left[ \\log L(\\alpha; x_i, z_i) \\right] \\\\\n",
    "&= \\sum_{i=1}^N \\sum_{z_i} p(z_i | x_i, \\alpha^{(t)}) \\log p(x_i, z_i | \\alpha) \\\\\n",
    "&= \\sum_{i=1}^N \\sum_{z_i} T(x_i, z_i) \\log \\left( p(x_i | z_i) p(z_i | \\alpha) \\right) \\\\\n",
    "&= \\sum_{i=1}^N \\sum_{z_i} T(x_i, z_i) \\log \\left( p(z_i | \\alpha) / z_i \\right)\n",
    "\\end{align}\n",
    "$$\n",
    "where:\n",
    "- $T(x_i, z_i) := p(z_i | x_i, \\alpha^{(t)})$ is a fixed function with respect to $\\alpha^{(t)}$\n",
    "- $p(x_i, z_i | \\alpha) = p(x_i | z_i) p(z_i | \\alpha)$ is the same formula from Tenenbaum's paper, with $\\alpha^{(t)}$ included, since $p(x_i | z_i, \\alpha) = p(x_i | z_i)$ by assumption\n",
    "- Substituting $p(x_i | z_i) = 1 / z_i$ for all $z_i$ is okay since $T(x_i, z_i) = 0$ for $z_i \\le x_i$ by definition.\n",
    "\n",
    "Next we simplify the log expression using knowledge of the prior, with unknown $\\alpha = (\\mu, \\sigma)$:\n",
    "$$\n",
    "\\begin{align}\n",
    "\\log \\left( p(z_i | \\alpha) / z_i \\right) &= \\log \\left( \\frac{1}{\\sqrt{2\\sigma^2 \\pi}} e^{-\\frac{(z_i - \\mu)^2}{2\\sigma^2}} \\right) - \\log z_i \\\\\n",
    "&= -\\frac{1}{2}(z_i - \\mu)^2 / \\sigma^2 - \\frac{1}{2} \\log \\sigma^2 - \\frac{1}{2} \\log \\left( 2\\pi \\right) - \\log z_i \\\\\n",
    "\\end{align}\n",
    "$$\n",
    "\n",
    "We then differentiate this with respect to $\\mu$:\n",
    "$$\n",
    "\\begin{align}\n",
    "\\frac{\\partial \\log \\left( p(z_i | \\alpha) / z_i \\right)}{\\partial \\mu} &= (z_i - \\mu)\\sigma^2\n",
    "\\end{align}\n",
    "$$\n",
    "and with respect to $\\sigma^2$:\n",
    "$$\n",
    "\\begin{align}\n",
    "\\frac{\\partial \\log \\left( p(z_i | \\alpha) / z_i \\right)}{\\partial \\sigma^2} &= \\frac{1}{2}(z_i - \\mu)^2/\\sigma^4 - \\frac{1}{2}/\\sigma^2 = \\frac{1}{2}\\left((z_i - \\mu)^2 - \\sigma^2 \\right)/\\sigma^4\n",
    "\\end{align}\n",
    "$$\n",
    "\n",
    "From linearity of differentation, we then know that the derivations of the $Q$ function are zero when:\n",
    "$$\n",
    "\\frac{\\partial Q(\\alpha | \\alpha^{(t)})}{d \\mu} = \\sum_{i=1}^N \\sum_{z_i} T(x_i, z_i) (z_i - \\mu)\\sigma^2 = 0\n",
    "$$\n",
    "$$\n",
    "\\iff \\mu = \\frac{\\sum_{i=1}^N \\sum_{z_i} z_i T(x_i, z_i)}{\\sum_{i=1}^N \\sum_{z_i} T(x_i, z_i)}\n",
    "$$\n",
    "and similarly:\n",
    "$$\n",
    "\\frac{\\partial Q(\\alpha | \\alpha^{(t)})}{d \\sigma^2} = \\sum_{i=1}^N \\sum_{z_i} T(x_i, z_i) \\frac{1}{2}\\left((z_i - \\mu)^2 - \\sigma^2 \\right)/\\sigma^4 = 0\n",
    "$$\n",
    "$$\n",
    "\\iff \\sigma^2 = \\frac{\\sum_{i=1}^N \\sum_{z_i} (z_i - \\mu)^2 T(x_i, z_i)}{\\sum_{i=1}^N \\sum_{z_i} T(x_i, z_i)}\n",
    "$$\n",
    "\n",
    "Next, by the generalized Bayes rule, we know:\n",
    "$$\n",
    "T(x_i, z_i) = p(z_i | x_i, \\alpha^{(t)}) = \\frac{p(z_i, x_i | \\alpha^{(t)})}{ \\sum_{z_i} p(z_i, x_i | \\alpha^{(t)}) }\n",
    "$$\n",
    "which we already know how to compute (see the Tenenbaum solution).\n",
    "\n",
    "We also note that since $T(\\cdot)$ is a probability density function over $z_i$, that:\n",
    "$$\n",
    "\\sum_{i=1}^N \\sum_{z_i} T(x_i, z_i) = \\sum_{i=1}^N 1 = N\n",
    "$$\n",
    "\n",
    "Therefore, each iteration should make the update $\\alpha^{(t+1)} = (\\mu^{(t+1)}, \\sigma^{(t+1)})$, where:\n",
    "$$\n",
    "\\begin{align}\n",
    "\\mu^{(t+1)} &= \\frac{1}{N} \\sum_{i=1}^N \\frac{\\sum_{z_i} z_i p(z_i, x_i | \\alpha^{(t)})}{\\sum_{z_i} p(z_i, x_i | \\alpha^{(t)})} \\\\\n",
    "\\sigma^{(t+1)} &= \\sqrt{\\frac{1}{N}  \\sum_{i=1}^N \\frac{\\sum_{z_i} (z_i - \\mu^{(t+1)})^2 p(z_i, x_i | \\alpha^{(t)})}{\\sum_{z_i} p(z_i, x_i | \\alpha^{(t)})}}\n",
    "\\end{align}\n",
    "$$\n",
    "which we implement as follows using matrices and dot products."
   ]
  },
  {
   "cell_type": "code",
   "execution_count": 115,
   "metadata": {
    "collapsed": false
   },
   "outputs": [
    {
     "name": "stdout",
     "output_type": "stream",
     "text": [
      "Initializing finished in 0:00:01.                                               \n",
      "Expectation-Maximization finished in 0:00:01.                                   \n",
      "('Final hyperparameters:', 74.197123204160462, 16.945475056503032)\n"
     ]
    }
   ],
   "source": [
    "# Start with an initial guess for the hyperparameters\n",
    "mu = 90\n",
    "std = 5\n",
    "num_steps = 100\n",
    "alpha = np.empty((num_steps, 2))\n",
    "\n",
    "# And then use estimates of Z to estimate the new prior\n",
    "from nengo.utils.progress import ProgressTracker\n",
    "with ProgressTracker(1, True, \"Initializing\"): pass  # Hack to fix bug\n",
    "with ProgressTracker(2 * num_steps, True, \"Expectation-Maximization\") as progress:\n",
    "    for k in range(num_steps):\n",
    "        prior = normal(mu, std)\n",
    "\n",
    "        def sum_over(g):\n",
    "            #s = 0\n",
    "            #for i in range(N):\n",
    "            #    s += np.dot(g, likelihood[i] * prior) / np.dot(likelihood[i], prior)\n",
    "            return np.sum(  # numpy optimized version of above comment\n",
    "                np.dot(g, likelihood.T * prior[:, None]) /\n",
    "                np.dot(likelihood, prior))\n",
    "\n",
    "        mu = sum_over(axis) / N\n",
    "        progress.step()\n",
    "        std = np.sqrt(sum_over((axis - mu)**2) / N)\n",
    "        progress.step()\n",
    "\n",
    "        alpha[k, :] = [mu, std]\n",
    "\n",
    "print(\"Final hyperparameters:\", mu, std)"
   ]
  },
  {
   "cell_type": "code",
   "execution_count": 116,
   "metadata": {
    "collapsed": false
   },
   "outputs": [
    {
     "data": {
      "image/png": "[encoded data removed]",
      "text/plain": [
       "<matplotlib.figure.Figure at 0x10aaa2350>"
      ]
     },
     "metadata": {},
     "output_type": "display_data"
    }
   ],
   "source": [
    "cpal = sns.color_palette(None, 2)\n",
    "\n",
    "pylab.figure()\n",
    "pylab.title(\"Expectation-Maximization\")\n",
    "pylab.plot(range(num_steps), alpha[:, 0], c=cpal[0], label=r\"$\\hat{\\mu}$\")\n",
    "pylab.plot(range(num_steps), mu_ANSWER * np.ones(num_steps), c=cpal[0], linestyle='--', label=r\"$\\mu$\")\n",
    "pylab.plot(range(num_steps), alpha[:, 1], c=cpal[1], label=r\"$\\hat{\\sigma}$\")\n",
    "pylab.plot(range(num_steps), std_ANSWER * np.ones(num_steps), c=cpal[1], linestyle='--', label=r\"$\\sigma$\")\n",
    "pylab.legend(bbox_to_anchor=(1.05, 1), loc=2, borderaxespad=0.)\n",
    "pylab.xlabel(\"Iteration\")\n",
    "pylab.ylabel(\"Hyperparameters\")\n",
    "pylab.show()"
   ]
  },
  {
   "cell_type": "markdown",
   "metadata": {
    "collapsed": true
   },
   "source": [
    "### Stepwise Expectation Maximization\n",
    "\n",
    "(February 12, 2017)\n",
    "\n",
    "Stepwise EM is unstable in the beginning (since we are using mini-batch size of 1). As we increase the size of mini-batch, it should become more stable (basic EM above is an example of extreme case where mini-batch has the maximum size i.e., equal to the full set of examples). \n",
    "\n",
    "In the implementation of Stepwise EM, the E and M step are performed alternately for each incoming example. Once all examples have arrived, further iterations can still be performed if required. Here we have 1000 examples, so the parameters are updated 1000 times as the examples arrive and then 10 more iterations are performed at the end once we have all the examples. Thus stepwise EM is run for 10 batch iterations (thought the total number of updates is 1000*10) whereas basic EM is run for 100 batch iterations (and total number of updates is 100).\n",
    "\n",
    "Reference: http://cs.stanford.edu/~pliang/papers/online-naacl2009.pdf\n"
   ]
  },
  {
   "cell_type": "code",
   "execution_count": 147,
   "metadata": {
    "collapsed": false
   },
   "outputs": [
    {
     "name": "stdout",
     "output_type": "stream",
     "text": [
      "Initializing finished in 0:00:01.                                               \n",
      "Expectation-Maximization finished in 0:00:01.                                   \n",
      "('Final hyperparameters:', 74.00901921888078, 15.184909804037254)\n"
     ]
    }
   ],
   "source": [
    "## Stepwise EM - Correction, closed form\n",
    "## Iterating once all the samples have come\n",
    "\n",
    "# Start with an initial guess for the hyperparameters\n",
    "mu = 90\n",
    "std = 5\n",
    "num_steps = 10 #100\n",
    "alpha = np.empty((num_steps, N, 2))\n",
    "\n",
    "mu_S = 0   # sufficient statistics\n",
    "std_S = 0  # sufficient statistics\n",
    "\n",
    "k = 0        # number of updates made to S so far\n",
    "m = 1        # mini batch size \n",
    "\n",
    "beta = 0.84  # should be between 0.5 to 1, higher value means \n",
    "             # more weight is given to the previous set of \n",
    "             # examples  relative to one incoming example\n",
    "\n",
    "# And then use estimates of Z to estimate the new prior\n",
    "from nengo.utils.progress import ProgressTracker\n",
    "with ProgressTracker(1, True, \"Initializing\"): pass  # Hack to fix bug\n",
    "with ProgressTracker(2 * num_steps, True, \"Expectation-Maximization\") as progress:\n",
    "    \n",
    "    # for each observed example\n",
    "    for j in range(num_steps):    \n",
    "\n",
    "        # iterate a couple times\n",
    "        x = range(N)\n",
    "        #random.shuffle(x)\n",
    "        for i in x:\n",
    "            prior = normal(mu, std)\n",
    "\n",
    "            \n",
    "            def sum_over(g): \n",
    "                # only sum over the examples in the mini-batch\n",
    "                # but in our case m = 1, so no summing over is required\n",
    "                # this code is not setup for m>1\n",
    "                s = 0\n",
    "                s += np.dot(g, likelihood[i] * prior) / np.dot(likelihood[i], prior)\n",
    "                return s\n",
    "            \n",
    "            \n",
    "            mu_sbar = sum_over(axis) / m\n",
    "            progress.step()\n",
    "            \n",
    "            \n",
    "            gamma = np.power(float(k+2), -beta)  # learning rate\n",
    "            k = k + 1\n",
    "            \n",
    "            mu_S = gamma*mu_sbar + (1-gamma)*mu_S\n",
    "            \n",
    "            \n",
    "            std_sbar = np.sqrt(sum_over((axis - mu_S)**2) / m)\n",
    "            progress.step()\n",
    "            std_S = gamma*std_sbar + (1-gamma)*std_S\n",
    "\n",
    "            mu = mu_S\n",
    "            std = std_S\n",
    "            alpha[j, i, :] = [mu, std]\n",
    "        \n",
    "                    \n",
    "print(\"Final hyperparameters:\", mu, std)\n"
   ]
  },
  {
   "cell_type": "code",
   "execution_count": 148,
   "metadata": {
    "collapsed": false
   },
   "outputs": [
    {
     "data": {
      "image/png": "[encoded data removed]",
      "text/plain": [
       "<matplotlib.figure.Figure at 0x10ada1ed0>"
      ]
     },
     "metadata": {},
     "output_type": "display_data"
    }
   ],
   "source": [
    "cpal = sns.color_palette(None, 2)\n",
    "\n",
    "pylab.figure()\n",
    "pylab.title(\"Expectation-Maximization\")\n",
    "pylab.plot(range(N*num_steps), alpha[:, :, 0].flatten(), c=cpal[0], label=r\"$\\hat{\\mu}$\")\n",
    "pylab.plot(range(N*num_steps), mu_ANSWER * np.ones(N*num_steps), c=cpal[0], linestyle='--', label=r\"$\\mu$\")\n",
    "pylab.plot(range(N*num_steps), alpha[:, :, 1].flatten(), c=cpal[1], label=r\"$\\hat{\\sigma}$\")\n",
    "pylab.plot(range(N*num_steps), std_ANSWER * np.ones(N*num_steps), c=cpal[1], linestyle='--', label=r\"$\\sigma$\")\n",
    "pylab.legend(bbox_to_anchor=(1.05, 1), loc=2, borderaxespad=0.)\n",
    "pylab.xlabel(\"Iteration\")\n",
    "pylab.ylabel(\"Hyperparameters\")\n",
    "pylab.show()"
   ]
  },
  {
   "cell_type": "code",
   "execution_count": null,
   "metadata": {
    "collapsed": true
   },
   "outputs": [],
   "source": []
  }
 ],
 "metadata": {
  "kernelspec": {
   "display_name": "Python 2",
   "language": "python",
   "name": "python2"
  },
  "language_info": {
   "codemirror_mode": {
    "name": "ipython",
    "version": 2
   },
   "file_extension": ".py",
   "mimetype": "text/x-python",
   "name": "python",
   "nbconvert_exporter": "python",
   "pygments_lexer": "ipython2",
   "version": "2.7.10"
  }
 },
 "nbformat": 4,
 "nbformat_minor": 2
}
